{
 "cells": [
  {
   "cell_type": "code",
   "execution_count": 1,
   "metadata": {},
   "outputs": [
    {
     "name": "stdout",
     "output_type": "stream",
     "text": [
      "[w b] is:  [2.00000000e+00 1.33226763e-15]\n"
     ]
    }
   ],
   "source": [
    "###一、作业内容\n",
    "#● 使用numpy 实现线性回归模型\n",
    "#● 数据要求：\n",
    "#● 教材数据\n",
    "#● 任意数据集数据\n",
    "#● 代码要求，使用向量化数据实现\n",
    "###二、代码\n",
    "import numpy as np\n",
    "points = np.array([[1,2],[2,4],[3,6]])\n",
    "x = points[:, 0]\n",
    "y = points[:, 1]\n",
    "def LOSS(w, b, points):\n",
    "    one = (np.ones(3)).T\n",
    "    X = np.c_[x, one]\n",
    "    W = (np.c_(w, b))\n",
    "    n = len(points)\n",
    "    loss = np.sum((np.dot(W, X) - y) ** 2) / n\n",
    "    return loss\n",
    "def fit(x,y):\n",
    "    one = (np.ones(3)).T\n",
    "    X = np.c_[x, one]\n",
    "    wb = np.dot(np.linalg.inv(np.dot(X.T, X)), np.dot(X.T, y))\n",
    "    return wb\n",
    "wb = fit(x,y)\n",
    "print(\"[w b] is: \", wb)\n",
    "###三、运行结果 [w b] is:  [2.00000000e+00 1.33226763e-15]\n",
    "###四、实验总结\n",
    "#numpy可以求解矩阵向量方程 用numpy构造适当的矩阵和向量可以对线性回归模型的建立进行计算\n",
    "#线性回归可以确定两种或两种以上变量间相互依赖的定量关系，可用于预测和相关性分析，模型思想简单便于实现\n",
    "#最小二乘法可以通过确定未知参数来是的真实值和预测值的误差平方和最小\n",
    "#可以通过损失函数来衡量估计值和实际之间的误差的大小\n",
    "#np.array(): 创建数组\n",
    "#np.ones():函数返回给定形状和数据类型的新数组，其中元素的值设置为1\n",
    "#np.c_():按列叠加两个矩阵，就是把两个矩阵左右组合，要求行数相等\n",
    "#np.sum():求和\n",
    "#np.dot(x,y):x是m*n 矩阵 ，y是n*m矩阵，则x.dot(y) 得到m*m矩阵"
   ]
  }
 ],
 "metadata": {
  "kernelspec": {
   "display_name": "Python 3.8.6 64-bit",
   "language": "python",
   "name": "python3"
  },
  "language_info": {
   "codemirror_mode": {
    "name": "ipython",
    "version": 3
   },
   "file_extension": ".py",
   "mimetype": "text/x-python",
   "name": "python",
   "nbconvert_exporter": "python",
   "pygments_lexer": "ipython3",
   "version": "3.8.6"
  },
  "orig_nbformat": 4,
  "vscode": {
   "interpreter": {
    "hash": "3440fa40ac2c39878b83ee7a6e81824601a62799733fc81e385c4ef9c8700d77"
   }
  }
 },
 "nbformat": 4,
 "nbformat_minor": 2
}
